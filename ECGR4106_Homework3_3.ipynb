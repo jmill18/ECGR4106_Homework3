{
  "nbformat": 4,
  "nbformat_minor": 0,
  "metadata": {
    "colab": {
      "provenance": [],
      "authorship_tag": "ABX9TyO+fSGL9Vcewy+aJfZOpla7",
      "include_colab_link": true
    },
    "kernelspec": {
      "name": "python3",
      "display_name": "Python 3"
    },
    "language_info": {
      "name": "python"
    },
    "accelerator": "GPU",
    "gpuClass": "standard",
    "widgets": {
      "application/vnd.jupyter.widget-state+json": {
        "b636bf78ba9744169377f1b3ccb75e56": {
          "model_module": "@jupyter-widgets/controls",
          "model_name": "HBoxModel",
          "model_module_version": "1.5.0",
          "state": {
            "_dom_classes": [],
            "_model_module": "@jupyter-widgets/controls",
            "_model_module_version": "1.5.0",
            "_model_name": "HBoxModel",
            "_view_count": null,
            "_view_module": "@jupyter-widgets/controls",
            "_view_module_version": "1.5.0",
            "_view_name": "HBoxView",
            "box_style": "",
            "children": [
              "IPY_MODEL_ef5ac89ab09743e096e7b183afdbe84f",
              "IPY_MODEL_9d685dae875a454186681095de06800c",
              "IPY_MODEL_280dca752cee47c8b22390b82fb99cda"
            ],
            "layout": "IPY_MODEL_2164b934ef2a462cbe9ce046b326438b"
          }
        },
        "ef5ac89ab09743e096e7b183afdbe84f": {
          "model_module": "@jupyter-widgets/controls",
          "model_name": "HTMLModel",
          "model_module_version": "1.5.0",
          "state": {
            "_dom_classes": [],
            "_model_module": "@jupyter-widgets/controls",
            "_model_module_version": "1.5.0",
            "_model_name": "HTMLModel",
            "_view_count": null,
            "_view_module": "@jupyter-widgets/controls",
            "_view_module_version": "1.5.0",
            "_view_name": "HTMLView",
            "description": "",
            "description_tooltip": null,
            "layout": "IPY_MODEL_919547ae4fbb48e08c320a7cc917542b",
            "placeholder": "​",
            "style": "IPY_MODEL_93e0f6aba1e24bfba5e753eac2af7594",
            "value": "100%"
          }
        },
        "9d685dae875a454186681095de06800c": {
          "model_module": "@jupyter-widgets/controls",
          "model_name": "FloatProgressModel",
          "model_module_version": "1.5.0",
          "state": {
            "_dom_classes": [],
            "_model_module": "@jupyter-widgets/controls",
            "_model_module_version": "1.5.0",
            "_model_name": "FloatProgressModel",
            "_view_count": null,
            "_view_module": "@jupyter-widgets/controls",
            "_view_module_version": "1.5.0",
            "_view_name": "ProgressView",
            "bar_style": "success",
            "description": "",
            "description_tooltip": null,
            "layout": "IPY_MODEL_9d9a93062a834ed3a4520afdf3a5be5e",
            "max": 170498071,
            "min": 0,
            "orientation": "horizontal",
            "style": "IPY_MODEL_a52248d5e94b46c69c0c77e519c7844e",
            "value": 170498071
          }
        },
        "280dca752cee47c8b22390b82fb99cda": {
          "model_module": "@jupyter-widgets/controls",
          "model_name": "HTMLModel",
          "model_module_version": "1.5.0",
          "state": {
            "_dom_classes": [],
            "_model_module": "@jupyter-widgets/controls",
            "_model_module_version": "1.5.0",
            "_model_name": "HTMLModel",
            "_view_count": null,
            "_view_module": "@jupyter-widgets/controls",
            "_view_module_version": "1.5.0",
            "_view_name": "HTMLView",
            "description": "",
            "description_tooltip": null,
            "layout": "IPY_MODEL_9dfcf7805596428dadfb91a727cdaae3",
            "placeholder": "​",
            "style": "IPY_MODEL_2f459ac4df6d484d8ac93193e4a10942",
            "value": " 170498071/170498071 [00:13&lt;00:00, 14423910.63it/s]"
          }
        },
        "2164b934ef2a462cbe9ce046b326438b": {
          "model_module": "@jupyter-widgets/base",
          "model_name": "LayoutModel",
          "model_module_version": "1.2.0",
          "state": {
            "_model_module": "@jupyter-widgets/base",
            "_model_module_version": "1.2.0",
            "_model_name": "LayoutModel",
            "_view_count": null,
            "_view_module": "@jupyter-widgets/base",
            "_view_module_version": "1.2.0",
            "_view_name": "LayoutView",
            "align_content": null,
            "align_items": null,
            "align_self": null,
            "border": null,
            "bottom": null,
            "display": null,
            "flex": null,
            "flex_flow": null,
            "grid_area": null,
            "grid_auto_columns": null,
            "grid_auto_flow": null,
            "grid_auto_rows": null,
            "grid_column": null,
            "grid_gap": null,
            "grid_row": null,
            "grid_template_areas": null,
            "grid_template_columns": null,
            "grid_template_rows": null,
            "height": null,
            "justify_content": null,
            "justify_items": null,
            "left": null,
            "margin": null,
            "max_height": null,
            "max_width": null,
            "min_height": null,
            "min_width": null,
            "object_fit": null,
            "object_position": null,
            "order": null,
            "overflow": null,
            "overflow_x": null,
            "overflow_y": null,
            "padding": null,
            "right": null,
            "top": null,
            "visibility": null,
            "width": null
          }
        },
        "919547ae4fbb48e08c320a7cc917542b": {
          "model_module": "@jupyter-widgets/base",
          "model_name": "LayoutModel",
          "model_module_version": "1.2.0",
          "state": {
            "_model_module": "@jupyter-widgets/base",
            "_model_module_version": "1.2.0",
            "_model_name": "LayoutModel",
            "_view_count": null,
            "_view_module": "@jupyter-widgets/base",
            "_view_module_version": "1.2.0",
            "_view_name": "LayoutView",
            "align_content": null,
            "align_items": null,
            "align_self": null,
            "border": null,
            "bottom": null,
            "display": null,
            "flex": null,
            "flex_flow": null,
            "grid_area": null,
            "grid_auto_columns": null,
            "grid_auto_flow": null,
            "grid_auto_rows": null,
            "grid_column": null,
            "grid_gap": null,
            "grid_row": null,
            "grid_template_areas": null,
            "grid_template_columns": null,
            "grid_template_rows": null,
            "height": null,
            "justify_content": null,
            "justify_items": null,
            "left": null,
            "margin": null,
            "max_height": null,
            "max_width": null,
            "min_height": null,
            "min_width": null,
            "object_fit": null,
            "object_position": null,
            "order": null,
            "overflow": null,
            "overflow_x": null,
            "overflow_y": null,
            "padding": null,
            "right": null,
            "top": null,
            "visibility": null,
            "width": null
          }
        },
        "93e0f6aba1e24bfba5e753eac2af7594": {
          "model_module": "@jupyter-widgets/controls",
          "model_name": "DescriptionStyleModel",
          "model_module_version": "1.5.0",
          "state": {
            "_model_module": "@jupyter-widgets/controls",
            "_model_module_version": "1.5.0",
            "_model_name": "DescriptionStyleModel",
            "_view_count": null,
            "_view_module": "@jupyter-widgets/base",
            "_view_module_version": "1.2.0",
            "_view_name": "StyleView",
            "description_width": ""
          }
        },
        "9d9a93062a834ed3a4520afdf3a5be5e": {
          "model_module": "@jupyter-widgets/base",
          "model_name": "LayoutModel",
          "model_module_version": "1.2.0",
          "state": {
            "_model_module": "@jupyter-widgets/base",
            "_model_module_version": "1.2.0",
            "_model_name": "LayoutModel",
            "_view_count": null,
            "_view_module": "@jupyter-widgets/base",
            "_view_module_version": "1.2.0",
            "_view_name": "LayoutView",
            "align_content": null,
            "align_items": null,
            "align_self": null,
            "border": null,
            "bottom": null,
            "display": null,
            "flex": null,
            "flex_flow": null,
            "grid_area": null,
            "grid_auto_columns": null,
            "grid_auto_flow": null,
            "grid_auto_rows": null,
            "grid_column": null,
            "grid_gap": null,
            "grid_row": null,
            "grid_template_areas": null,
            "grid_template_columns": null,
            "grid_template_rows": null,
            "height": null,
            "justify_content": null,
            "justify_items": null,
            "left": null,
            "margin": null,
            "max_height": null,
            "max_width": null,
            "min_height": null,
            "min_width": null,
            "object_fit": null,
            "object_position": null,
            "order": null,
            "overflow": null,
            "overflow_x": null,
            "overflow_y": null,
            "padding": null,
            "right": null,
            "top": null,
            "visibility": null,
            "width": null
          }
        },
        "a52248d5e94b46c69c0c77e519c7844e": {
          "model_module": "@jupyter-widgets/controls",
          "model_name": "ProgressStyleModel",
          "model_module_version": "1.5.0",
          "state": {
            "_model_module": "@jupyter-widgets/controls",
            "_model_module_version": "1.5.0",
            "_model_name": "ProgressStyleModel",
            "_view_count": null,
            "_view_module": "@jupyter-widgets/base",
            "_view_module_version": "1.2.0",
            "_view_name": "StyleView",
            "bar_color": null,
            "description_width": ""
          }
        },
        "9dfcf7805596428dadfb91a727cdaae3": {
          "model_module": "@jupyter-widgets/base",
          "model_name": "LayoutModel",
          "model_module_version": "1.2.0",
          "state": {
            "_model_module": "@jupyter-widgets/base",
            "_model_module_version": "1.2.0",
            "_model_name": "LayoutModel",
            "_view_count": null,
            "_view_module": "@jupyter-widgets/base",
            "_view_module_version": "1.2.0",
            "_view_name": "LayoutView",
            "align_content": null,
            "align_items": null,
            "align_self": null,
            "border": null,
            "bottom": null,
            "display": null,
            "flex": null,
            "flex_flow": null,
            "grid_area": null,
            "grid_auto_columns": null,
            "grid_auto_flow": null,
            "grid_auto_rows": null,
            "grid_column": null,
            "grid_gap": null,
            "grid_row": null,
            "grid_template_areas": null,
            "grid_template_columns": null,
            "grid_template_rows": null,
            "height": null,
            "justify_content": null,
            "justify_items": null,
            "left": null,
            "margin": null,
            "max_height": null,
            "max_width": null,
            "min_height": null,
            "min_width": null,
            "object_fit": null,
            "object_position": null,
            "order": null,
            "overflow": null,
            "overflow_x": null,
            "overflow_y": null,
            "padding": null,
            "right": null,
            "top": null,
            "visibility": null,
            "width": null
          }
        },
        "2f459ac4df6d484d8ac93193e4a10942": {
          "model_module": "@jupyter-widgets/controls",
          "model_name": "DescriptionStyleModel",
          "model_module_version": "1.5.0",
          "state": {
            "_model_module": "@jupyter-widgets/controls",
            "_model_module_version": "1.5.0",
            "_model_name": "DescriptionStyleModel",
            "_view_count": null,
            "_view_module": "@jupyter-widgets/base",
            "_view_module_version": "1.2.0",
            "_view_name": "StyleView",
            "description_width": ""
          }
        }
      }
    }
  },
  "cells": [
    {
      "cell_type": "markdown",
      "metadata": {
        "id": "view-in-github",
        "colab_type": "text"
      },
      "source": [
        "<a href=\"https://colab.research.google.com/github/jmill18/ECGR4106_Homework3/blob/main/ECGR4106_Homework3_3.ipynb\" target=\"_parent\"><img src=\"https://colab.research.google.com/assets/colab-badge.svg\" alt=\"Open In Colab\"/></a>"
      ]
    },
    {
      "cell_type": "code",
      "execution_count": 2,
      "metadata": {
        "id": "EgVFNvglpotE"
      },
      "outputs": [],
      "source": [
        "import torch\n",
        "import torch\n",
        "from torch import nn as nn\n",
        "import torchvision\n",
        "from torchvision import transforms\n",
        "from torch.nn import functional as F\n",
        "from matplotlib import pyplot as plt\n",
        "import os"
      ]
    },
    {
      "cell_type": "code",
      "source": [
        "def init_cnn(module):\n",
        "  if type(module) == nn.Linear or type(module) == nn.Conv2d:\n",
        "    nn.init.xavier_uniform_(module.weight)"
      ],
      "metadata": {
        "id": "Xtat-mLesNc_"
      },
      "execution_count": 3,
      "outputs": []
    },
    {
      "cell_type": "code",
      "source": [
        "class Residual(nn.Module):\n",
        "  def __init__(self, num_channels, use_1x1conv=False, strides=1):\n",
        "    super().__init__()\n",
        "    self.conv1 = nn.LazyConv2d(num_channels, kernel_size=3, padding=1,\n",
        "                               stride=strides)\n",
        "    self.conv2 = nn.LazyConv2d(num_channels, kernel_size=3, padding=1)\n",
        "    if use_1x1conv:\n",
        "      self.conv3 = nn.LazyConv2d(num_channels, kernel_size=1,\n",
        "                                 stride=strides)\n",
        "    else:\n",
        "      self.conv3 = None\n",
        "    self.bn1 = nn.LazyBatchNorm2d()\n",
        "    self.bn2 = nn.LazyBatchNorm2d()\n",
        "\n",
        "  def forward(self, X):\n",
        "    Y = F.relu(self.bn1(self.conv1(X)))\n",
        "    Y = self.bn2(self.conv2(Y))\n",
        "    if self.conv3:\n",
        "      X = self.conv3(X)\n",
        "    Y += X\n",
        "    return F.relu(Y)  "
      ],
      "metadata": {
        "id": "Qq1ghO0np11v"
      },
      "execution_count": 4,
      "outputs": []
    },
    {
      "cell_type": "code",
      "source": [
        "class ResNet(nn.Module):\n",
        "  def __init__(self, arch, lr=0.1, num_classes=10):\n",
        "    super(ResNet, self).__init__()\n",
        "\n",
        "    self.net = nn.Sequential(self.b1())\n",
        "    for i, b in enumerate(arch):\n",
        "      self.net.add_module(f'b{i+2}', self.block(*b, first_block=(i==0)))\n",
        "    self.net.add_module('last', nn.Sequential(\n",
        "        nn.AdaptiveAvgPool2d((1, 1)), nn.Flatten(),\n",
        "        nn.LazyLinear(num_classes)\n",
        "    ))\n",
        "    self.net.apply(init_cnn)\n",
        "  def forward(self, x):\n",
        "    return self.net(x);\n",
        "  def b1(self):\n",
        "    return nn.Sequential(\n",
        "        nn.LazyConv2d(64, kernel_size=7, stride=2, padding=3),\n",
        "        nn.LazyBatchNorm2d(), nn.ReLU(),\n",
        "        nn.MaxPool2d(kernel_size=3, stride=2, padding=1)\n",
        "    )\n",
        "  def block(self, num_residuals, num_channels, first_block=False):\n",
        "    blk = []\n",
        "    for i in range(num_residuals):\n",
        "      if i == 0 and not first_block:\n",
        "        blk.append(Residual(num_channels, use_1x1conv=True, strides=2))\n",
        "      else:\n",
        "        blk.append(Residual(num_channels))\n",
        "    return nn.Sequential(*blk)"
      ],
      "metadata": {
        "id": "v5R0Pbnzq2kc"
      },
      "execution_count": 5,
      "outputs": []
    },
    {
      "cell_type": "code",
      "source": [
        "class ResNet18(ResNet):\n",
        "  def __init__(self, lr=0.1, num_classes=10):\n",
        "    super().__init__(((2, 64), (2, 128), (2, 256), (2, 512)),\n",
        "                     lr, num_classes)\n",
        "  def layer_summary(self, X_shape):\n",
        "      x = torch.randn(*X_shape)\n",
        "      for layer in self.net:\n",
        "        x = layer(x)\n",
        "        print(layer.__class__.__name__, 'output shape:\\t', x.shape)"
      ],
      "metadata": {
        "id": "sElhW_pIsQhF"
      },
      "execution_count": 6,
      "outputs": []
    },
    {
      "cell_type": "code",
      "source": [
        "ResNet18().layer_summary((1, 1, 96, 96))"
      ],
      "metadata": {
        "colab": {
          "base_uri": "https://localhost:8080/",
          "height": 0
        },
        "id": "NHrlPeAWsjfl",
        "outputId": "18aca432-e8a8-41eb-9fb9-17e51f33c06b"
      },
      "execution_count": 7,
      "outputs": [
        {
          "output_type": "stream",
          "name": "stderr",
          "text": [
            "/usr/local/lib/python3.9/dist-packages/torch/nn/modules/lazy.py:180: UserWarning: Lazy modules are a new feature under heavy development so changes to the API or functionality can happen at any moment.\n",
            "  warnings.warn('Lazy modules are a new feature under heavy development '\n"
          ]
        },
        {
          "output_type": "stream",
          "name": "stdout",
          "text": [
            "Sequential output shape:\t torch.Size([1, 64, 24, 24])\n",
            "Sequential output shape:\t torch.Size([1, 64, 24, 24])\n",
            "Sequential output shape:\t torch.Size([1, 128, 12, 12])\n",
            "Sequential output shape:\t torch.Size([1, 256, 6, 6])\n",
            "Sequential output shape:\t torch.Size([1, 512, 3, 3])\n",
            "Sequential output shape:\t torch.Size([1, 10])\n"
          ]
        }
      ]
    },
    {
      "cell_type": "code",
      "source": [
        "device = torch.device('cuda' if torch.cuda.is_available() else 'cpu')"
      ],
      "metadata": {
        "id": "yVDwd28qsq4V"
      },
      "execution_count": 8,
      "outputs": []
    },
    {
      "cell_type": "code",
      "source": [
        "trans = transforms.Compose([\n",
        "    transforms.ToTensor(),\n",
        "    transforms.Resize((64,64))\n",
        "])\n",
        "train_data = torchvision.datasets.CIFAR10(root='./data',\n",
        "                                          train=True,\n",
        "                                          transform=trans,\n",
        "                                          download=True)\n",
        "val_data = torchvision.datasets.CIFAR10(root='./data',\n",
        "                                        train=False,\n",
        "                                        transform=trans,\n",
        "                                        download=True)\n",
        "train_loader = torch.utils.data.DataLoader(dataset=train_data,\n",
        "                                           batch_size=100,\n",
        "                                           shuffle=True, num_workers=os.cpu_count())\n",
        "val_loader = torch.utils.data.DataLoader(dataset=val_data,\n",
        "                                         batch_size=100,\n",
        "                                         shuffle=False)"
      ],
      "metadata": {
        "colab": {
          "base_uri": "https://localhost:8080/",
          "height": 101,
          "referenced_widgets": [
            "b636bf78ba9744169377f1b3ccb75e56",
            "ef5ac89ab09743e096e7b183afdbe84f",
            "9d685dae875a454186681095de06800c",
            "280dca752cee47c8b22390b82fb99cda",
            "2164b934ef2a462cbe9ce046b326438b",
            "919547ae4fbb48e08c320a7cc917542b",
            "93e0f6aba1e24bfba5e753eac2af7594",
            "9d9a93062a834ed3a4520afdf3a5be5e",
            "a52248d5e94b46c69c0c77e519c7844e",
            "9dfcf7805596428dadfb91a727cdaae3",
            "2f459ac4df6d484d8ac93193e4a10942"
          ]
        },
        "id": "7KTKOPGds4Is",
        "outputId": "f765613b-88ad-4973-cc28-7c68709582f8"
      },
      "execution_count": 9,
      "outputs": [
        {
          "output_type": "stream",
          "name": "stdout",
          "text": [
            "Downloading https://www.cs.toronto.edu/~kriz/cifar-10-python.tar.gz to ./data/cifar-10-python.tar.gz\n"
          ]
        },
        {
          "output_type": "display_data",
          "data": {
            "text/plain": [
              "  0%|          | 0/170498071 [00:00<?, ?it/s]"
            ],
            "application/vnd.jupyter.widget-view+json": {
              "version_major": 2,
              "version_minor": 0,
              "model_id": "b636bf78ba9744169377f1b3ccb75e56"
            }
          },
          "metadata": {}
        },
        {
          "output_type": "stream",
          "name": "stdout",
          "text": [
            "Extracting ./data/cifar-10-python.tar.gz to ./data\n",
            "Files already downloaded and verified\n"
          ]
        }
      ]
    },
    {
      "cell_type": "code",
      "source": [
        "myResNet = ResNet18().to(device)\n",
        "loss_crit = nn.CrossEntropyLoss()\n",
        "optim = torch.optim.SGD(myResNet.parameters(), lr=0.1)"
      ],
      "metadata": {
        "id": "BbkJ9Eo9tHYO"
      },
      "execution_count": 10,
      "outputs": []
    },
    {
      "cell_type": "code",
      "source": [
        "num_epochs = 30\n",
        "valid_loss = [None] * 30\n",
        "training_loss = [None] * 30\n",
        "valid_acc = [None] * 30\n",
        "index = 0\n",
        "\n",
        "for epoch in range(num_epochs):\n",
        "  n_correct_pred = 0\n",
        "  n_samples = 0\n",
        "  for i, (images, labels) in enumerate(train_loader):\n",
        "    images = images.to(device)\n",
        "    labels = labels.to(device)\n",
        "\n",
        "    outputs = myResNet(images)\n",
        "    loss = loss_crit(outputs, labels)\n",
        "\n",
        "    optim.zero_grad()\n",
        "    loss.backward()\n",
        "    optim.step()\n",
        "\n",
        "  with torch.no_grad():\n",
        "    for j, (val_images, val_labels) in enumerate(val_loader):\n",
        "      val_images = val_images.to(device)\n",
        "      val_labels = val_labels.to(device)\n",
        "      outputs = myResNet(val_images)\n",
        "      val_loss = loss_crit(outputs, val_labels)\n",
        "      _, pred = torch.max(outputs.data, 1)\n",
        "      n_samples += val_labels.size(0)\n",
        "      n_correct_pred += (pred == val_labels).sum().item()\n",
        "\n",
        "  val_acc = (n_correct_pred / n_samples) * 100\n",
        "  valid_loss[index] = val_loss.item()\n",
        "  training_loss[index] = loss.item()\n",
        "  valid_acc[index] = val_acc / 100.0\n",
        "  index += 1\n",
        "  if (epoch+1) % 2 == 0:\n",
        "    print(f'Epoch [{epoch+1}/{num_epochs}], train loss: {loss.item():.4f}, val loss: {val_loss.item():.4f}, val_acc: {val_acc:.4f} %')"
      ],
      "metadata": {
        "colab": {
          "base_uri": "https://localhost:8080/",
          "height": 0
        },
        "id": "t7PUlp77tXrK",
        "outputId": "30526f36-9954-4308-e608-81dc421a1cc4"
      },
      "execution_count": null,
      "outputs": [
        {
          "output_type": "stream",
          "name": "stdout",
          "text": [
            "Epoch [2/30], train loss: 0.8453, val loss: 0.7670, val_acc: 69.6700 %\n",
            "Epoch [4/30], train loss: 0.4279, val loss: 0.7182, val_acc: 76.0500 %\n",
            "Epoch [6/30], train loss: 0.3741, val loss: 0.6674, val_acc: 77.5400 %\n",
            "Epoch [8/30], train loss: 0.1535, val loss: 0.9395, val_acc: 77.9800 %\n",
            "Epoch [10/30], train loss: 0.0528, val loss: 1.1494, val_acc: 78.7900 %\n",
            "Epoch [12/30], train loss: 0.0801, val loss: 1.3491, val_acc: 78.3500 %\n",
            "Epoch [14/30], train loss: 0.0167, val loss: 1.4215, val_acc: 78.9100 %\n",
            "Epoch [16/30], train loss: 0.0139, val loss: 1.5912, val_acc: 79.0500 %\n",
            "Epoch [18/30], train loss: 0.0251, val loss: 1.3471, val_acc: 79.0500 %\n",
            "Epoch [20/30], train loss: 0.0790, val loss: 2.0281, val_acc: 78.8400 %\n"
          ]
        }
      ]
    },
    {
      "cell_type": "code",
      "source": [
        "epochs = [None]*30\n",
        "for i in range(30):\n",
        "  epochs[i] = i+1\n",
        "plt.rcParams[\"figure.figsize\"] = [7.50, 3.50]\n",
        "plt.rcParams[\"figure.autolayout\"] = True\n",
        "\n",
        "plt.title(\"Validation Accuracy/Loss and Training Loss vs No. Epochs\")\n",
        "plt.xlabel(\"Number of epochs\")\n",
        "plt.plot(epochs, valid_acc, label=\"Validation Accuracy\", color=\"red\")\n",
        "plt.plot(epochs, training_loss, label=\"Training Loss\", color=\"purple\")\n",
        "plt.plot(epochs, valid_loss, label=\"Validation Loss\", color=\"Green\")\n",
        "\n",
        "plt.legend()\n",
        "plt.show()"
      ],
      "metadata": {
        "id": "9bR_8tSct6pe"
      },
      "execution_count": null,
      "outputs": []
    },
    {
      "cell_type": "code",
      "source": [],
      "metadata": {
        "id": "Qf5Q_UFy2SmY"
      },
      "execution_count": null,
      "outputs": []
    }
  ]
}